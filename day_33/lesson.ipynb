{
 "cells": [
  {
   "cell_type": "code",
   "execution_count": null,
   "id": "baa606db",
   "metadata": {},
   "outputs": [],
   "source": [
    "import datetime as dt\n",
    "import requests\n",
    "import json"
   ]
  },
  {
   "cell_type": "code",
   "execution_count": 9,
   "id": "258def5b",
   "metadata": {},
   "outputs": [
    {
     "name": "stdout",
     "output_type": "stream",
     "text": [
      "ISS Position: (-166.7504, -30.6836)\n"
     ]
    }
   ],
   "source": [
    "response = requests.get(url=\"http://api.open-notify.org/iss-now.json\")\n",
    "data = response.json()\n",
    "longitude = float(data['iss_position']['longitude'])\n",
    "lattitude = float(data['iss_position']['latitude'])\n",
    "iss_position = (longitude, lattitude)\n",
    "print(f\"ISS Position: {iss_position}\")"
   ]
  },
  {
   "cell_type": "code",
   "execution_count": null,
   "id": "d50e7447",
   "metadata": {},
   "outputs": [
    {
     "name": "stdout",
     "output_type": "stream",
     "text": [
      "{\n",
      "    \"results\": {\n",
      "        \"sunrise\": \"5:46:33 AM\",\n",
      "        \"sunset\": \"7:46:52 PM\",\n",
      "        \"solar_noon\": \"12:46:42 PM\",\n",
      "        \"day_length\": \"14:00:19\",\n",
      "        \"civil_twilight_begin\": \"5:20:21 AM\",\n",
      "        \"civil_twilight_end\": \"8:13:04 PM\",\n",
      "        \"nautical_twilight_begin\": \"4:46:53 AM\",\n",
      "        \"nautical_twilight_end\": \"8:46:31 PM\",\n",
      "        \"astronomical_twilight_begin\": \"4:11:10 AM\",\n",
      "        \"astronomical_twilight_end\": \"9:22:15 PM\"\n",
      "    },\n",
      "    \"status\": \"OK\",\n",
      "    \"tzid\": \"America/Chicago\"\n",
      "}\n",
      "Sunrise: 5:46:33 AM\n",
      "Sunset: 7:46:52 PM\n"
     ]
    }
   ],
   "source": [
    "\n",
    "parameters = {\n",
    "    \"lat\": 33.264179,\n",
    "    \"lng\": -87.561295,\n",
    "    \"formatted\": 0\n",
    "}\n",
    "response = requests.get(url=\"https://api.sunrise-sunset.org/json\", params=parameters)\n",
    "response.raise_for_status()  # Raise an error for bad responses\n",
    "data = response.json()\n",
    "print(json.dumps(data, indent=4))\n",
    "sunrise = data['results']['sunrise']\n",
    "sunset = data['results']['sunset']\n",
    "print(f\"Sunrise: {sunrise}\")\n",
    "print(f\"Sunset: {sunset}\")\n"
   ]
  },
  {
   "cell_type": "code",
   "execution_count": null,
   "id": "01168d16",
   "metadata": {},
   "outputs": [],
   "source": []
  },
  {
   "cell_type": "code",
   "execution_count": null,
   "id": "75eab320",
   "metadata": {},
   "outputs": [],
   "source": []
  }
 ],
 "metadata": {
  "kernelspec": {
   "display_name": "Python (uv-100days)",
   "language": "python",
   "name": "uv-100days"
  },
  "language_info": {
   "codemirror_mode": {
    "name": "ipython",
    "version": 3
   },
   "file_extension": ".py",
   "mimetype": "text/x-python",
   "name": "python",
   "nbconvert_exporter": "python",
   "pygments_lexer": "ipython3",
   "version": "3.12.10"
  }
 },
 "nbformat": 4,
 "nbformat_minor": 5
}
