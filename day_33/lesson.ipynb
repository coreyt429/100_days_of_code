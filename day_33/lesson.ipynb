{
 "cells": [
  {
   "cell_type": "code",
   "execution_count": 19,
   "id": "baa606db",
   "metadata": {},
   "outputs": [],
   "source": [
    "import datetime as dt\n",
    "import requests\n",
    "import json"
   ]
  },
  {
   "cell_type": "code",
   "execution_count": 20,
   "id": "258def5b",
   "metadata": {},
   "outputs": [
    {
     "name": "stdout",
     "output_type": "stream",
     "text": [
      "ISS Position: (-68.8045, -43.5726)\n"
     ]
    }
   ],
   "source": [
    "response = requests.get(url=\"http://api.open-notify.org/iss-now.json\")\n",
    "data = response.json()\n",
    "longitude = float(data['iss_position']['longitude'])\n",
    "lattitude = float(data['iss_position']['latitude'])\n",
    "iss_position = (longitude, lattitude)\n",
    "print(f\"ISS Position: {iss_position}\")"
   ]
  },
  {
   "cell_type": "code",
   "execution_count": 23,
   "id": "d50e7447",
   "metadata": {},
   "outputs": [
    {
     "name": "stdout",
     "output_type": "stream",
     "text": [
      "Current Time: 2025-05-18 15:48:13.507869+00:00\n",
      "Sunrise Time: 2025-05-18 10:46:33+00:00\n",
      "Sunset Time: 2025-05-19 00:46:52+00:00\n",
      "Is it daytime? True\n",
      "Sunset in 8 hours and 58 minutes\n"
     ]
    }
   ],
   "source": [
    "\n",
    "parameters = {\n",
    "    \"lat\": 33.264179,\n",
    "    \"lng\": -87.561295,\n",
    "    \"formatted\": 0\n",
    "}\n",
    "response = requests.get(url=\"https://api.sunrise-sunset.org/json\", params=parameters)\n",
    "response.raise_for_status()  # Raise an error for bad responses\n",
    "data = response.json()\n",
    "# print(json.dumps(data, indent=4))\n",
    "sunrise = data['results']['sunrise']\n",
    "sunset = data['results']['sunset']\n",
    "\n",
    "sunrise_time = dt.datetime.strptime(sunrise, \"%Y-%m-%dT%H:%M:%S%z\")\n",
    "sunset_time = dt.datetime.strptime(sunset, \"%Y-%m-%dT%H:%M:%S%z\")\n",
    "current_time = dt.datetime.now(dt.timezone.utc)\n",
    "print(f\"Current Time: {current_time}\")\n",
    "print(f\"Sunrise Time: {sunrise_time}\")\n",
    "print(f\"Sunset Time: {sunset_time}\")\n",
    "is_daytime = False\n",
    "if current_time >= sunrise_time and current_time <= sunset_time:\n",
    "    is_daytime = True\n",
    "print(f\"Is it daytime? {is_daytime}\")\n",
    "\n",
    "if current_time >= sunrise_time and current_time <= sunset_time:\n",
    "    difference = sunset_time - current_time\n",
    "    print(\"Sunset in {} hours and {} minutes\".format(difference.seconds // 3600, (difference.seconds // 60) % 60))"
   ]
  },
  {
   "cell_type": "code",
   "execution_count": null,
   "id": "01168d16",
   "metadata": {},
   "outputs": [],
   "source": []
  },
  {
   "cell_type": "code",
   "execution_count": null,
   "id": "75eab320",
   "metadata": {},
   "outputs": [],
   "source": []
  }
 ],
 "metadata": {
  "kernelspec": {
   "display_name": "Python (uv-100days)",
   "language": "python",
   "name": "uv-100days"
  },
  "language_info": {
   "codemirror_mode": {
    "name": "ipython",
    "version": 3
   },
   "file_extension": ".py",
   "mimetype": "text/x-python",
   "name": "python",
   "nbconvert_exporter": "python",
   "pygments_lexer": "ipython3",
   "version": "3.12.10"
  }
 },
 "nbformat": 4,
 "nbformat_minor": 5
}
