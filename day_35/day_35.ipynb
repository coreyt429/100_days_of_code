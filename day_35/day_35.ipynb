{
 "cells": [
  {
   "cell_type": "code",
   "execution_count": null,
   "id": "194bd55c",
   "metadata": {},
   "outputs": [],
   "source": [
    "import requests\n",
    "import json\n",
    "import os\n",
    "from dotenv import load_dotenv\n",
    "\n",
    "load_dotenv()\n",
    "\n",
    "GCP_PROJECT_ID = os.getenv('GCP_PROJECT_ID')\n",
    "SERVICE_ACCOUNT_FILE = os.getenv('SERVICE_ACCOUNT_FILE')\n",
    "STORAGE_BUCKET_NAME = os.getenv('STORAGE_BUCKET_NAME')\n",
    "\n",
    "\n",
    "owm_endpoint = 'https://api.openweathermap.org/data/2.5/forecast'\n",
    "# url = f'https://api.openweathermap.org/data/2.5/weather?lat={lat}&lon={lon}&appid={api_key}'\n",
    "# url = f'http://api.openweathermap.org/geo/1.0/direct?q={city_name},{state_code},{country_code}&limit={limit}&appid={api_key}'\n",
    "weather_params = {\n",
    "    'lat': 33.264179,\n",
    "    'lon': -87.561295,\n",
    "    'appid': os.getenv('OWM_API_KEY'),\n",
    "    'cnt': 4,\n",
    "}\n",
    "response = requests.get(owm_endpoint, params=weather_params, timeout=5)\n",
    "response.raise_for_status()\n",
    "will_rain = False\n",
    "if response.status_code == 200:\n",
    "    data = response.json()\n",
    "    # print(json.dumps(data, indent=4))\n",
    "    for hour_data in data['list']:\n",
    "        weather_id = hour_data['weather'][0]['id']\n",
    "        condition = hour_data['weather'][0]['description']\n",
    "        if weather_id < 800:\n",
    "            will_rain = True\n",
    "    if will_rain:\n",
    "        print(\"It will rain in the next 4 hours.\")\n",
    "else:\n",
    "    print(f\"Error: {response.status_code}\")\n",
    "    print(\"Unable to fetch weather data.\")\n",
    "    print(response.text)"
   ]
  },
  {
   "cell_type": "code",
   "execution_count": 2,
   "id": "4f04012b",
   "metadata": {},
   "outputs": [
    {
     "name": "stdout",
     "output_type": "stream",
     "text": [
      "SM36a09c0c9962245e6c0ffde71dff7e07\n"
     ]
    }
   ],
   "source": [
    "from twilio.rest import Client\n",
    "\n",
    "account_sid = os.getenv('TWILIO_ACCOUNT_SID')\n",
    "auth_token = os.getenv('TWILIO_AUTH_TOKEN')\n",
    "client = Client(account_sid, auth_token)\n",
    "\n",
    "message = client.messages.create(\n",
    "  from_='+18663506246',\n",
    "  body='Hello from Twilio',\n",
    "  to='+12054533662'\n",
    ")\n",
    "\n",
    "print(message.sid)"
   ]
  },
  {
   "cell_type": "code",
   "execution_count": 6,
   "id": "6aba4d09",
   "metadata": {},
   "outputs": [],
   "source": [
    "# revisit after twilio number is verified\n"
   ]
  },
  {
   "cell_type": "code",
   "execution_count": null,
   "id": "e129f347",
   "metadata": {},
   "outputs": [],
   "source": []
  }
 ],
 "metadata": {
  "kernelspec": {
   "display_name": "Python (uv-100days)",
   "language": "python",
   "name": "uv-100days"
  },
  "language_info": {
   "codemirror_mode": {
    "name": "ipython",
    "version": 3
   },
   "file_extension": ".py",
   "mimetype": "text/x-python",
   "name": "python",
   "nbconvert_exporter": "python",
   "pygments_lexer": "ipython3",
   "version": "3.12.10"
  }
 },
 "nbformat": 4,
 "nbformat_minor": 5
}
