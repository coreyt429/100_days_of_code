{
 "cells": [
  {
   "cell_type": "code",
   "execution_count": 26,
   "id": "15e3e68e",
   "metadata": {},
   "outputs": [],
   "source": [
    "import requests\n",
    "import dotenv\n",
    "import os\n",
    "from datetime import datetime\n",
    "dotenv.load_dotenv('../.env')\n",
    "\n",
    "PIXELA_TOKEN = os.getenv('PIXELA_TOKEN')\n",
    "PIXELA_USERNAME = os.getenv('PIXELA_USERNAME')\n",
    "HEADER = {\"X-USER-TOKEN\": PIXELA_TOKEN}"
   ]
  },
  {
   "cell_type": "code",
   "execution_count": 18,
   "id": "b34d19e8",
   "metadata": {},
   "outputs": [],
   "source": [
    "\n",
    "# create user account\n",
    "pixela_endpoint = \"https://pixe.la/v1/users\"\n",
    "# user_params = {\n",
    "#     \"token\": os.environ.get('PIXELA_TOKEN'),\n",
    "#     \"username\": os.environ.get('PIXELA_USERNAME'),\n",
    "#     \"agreeTermsOfService\": \"yes\",\n",
    "#     \"notMinor\": \"yes\"\n",
    "# }\n",
    "# response = requests.post(url=pixela_endpoint, json=user_params)\n",
    "# print(response.text)"
   ]
  },
  {
   "cell_type": "code",
   "execution_count": null,
   "id": "900293d4",
   "metadata": {},
   "outputs": [
    {
     "name": "stdout",
     "output_type": "stream",
     "text": [
      "{\"message\":\"Success.\",\"isSuccess\":true}\n"
     ]
    }
   ],
   "source": [
    "# create graph\n",
    "graph_endpoint = f\"{pixela_endpoint}/{PIXELA_USERNAME}/graphs\"\n",
    "\n",
    "graph_params = {\n",
    "    \"id\": \"learning-graph\",\n",
    "    \"name\": \"Learning Graph\",\n",
    "    \"unit\": \"lessons\",\n",
    "    \"type\": \"float\",\n",
    "    \"color\": \"shibafu\",\n",
    "    \"timezone\": \"America/Chicago\"\n",
    "}\n",
    "\n",
    "response = requests.post(url=graph_endpoint, json=graph_params, headers=HEADER)\n",
    "# response = requests.post(url=graph_endpoint, json=graph_params)\n",
    "print(response.text)\n",
    "\n",
    "\"https://pixe.la/v1/users/coreyt/graphs/learning-graph\""
   ]
  },
  {
   "cell_type": "code",
   "execution_count": null,
   "id": "ae7bd5e5",
   "metadata": {},
   "outputs": [],
   "source": []
  },
  {
   "cell_type": "code",
   "execution_count": 29,
   "id": "f4a6844a",
   "metadata": {},
   "outputs": [
    {
     "name": "stdout",
     "output_type": "stream",
     "text": [
      "{\"message\":\"Success.\",\"isSuccess\":true}\n"
     ]
    }
   ],
   "source": [
    "# post data to the graph\n",
    "today = datetime.now()\n",
    "today_date = today.strftime(\"%Y%m%d\")\n",
    "post_data_endpoint = f\"{pixela_endpoint}/{PIXELA_USERNAME}/graphs/learning-graph\"\n",
    "post_data_params = {\n",
    "    \"date\": today_date,\n",
    "    \"quantity\": \"1\"\n",
    "}\n",
    "\n",
    "\n",
    "response = requests.post(url=post_data_endpoint, json=post_data_params, headers=HEADER)\n",
    "# response = requests.post(url=graph_endpoint, json=graph_params)\n",
    "print(response.text)\n"
   ]
  },
  {
   "cell_type": "code",
   "execution_count": 30,
   "id": "a2470c2e",
   "metadata": {},
   "outputs": [
    {
     "name": "stdout",
     "output_type": "stream",
     "text": [
      "{\"message\":\"Success.\",\"isSuccess\":true}\n"
     ]
    }
   ],
   "source": [
    "# update a pixel\n",
    "update_endpoint = f\"{pixela_endpoint}/{PIXELA_USERNAME}/graphs/learning-graph/{today_date}\"\n",
    "update_params = {\n",
    "    \"quantity\": \"2\"\n",
    "}\n",
    "response = requests.put(url=update_endpoint, json=update_params, headers=HEADER)\n",
    "print(response.text)\n"
   ]
  },
  {
   "cell_type": "code",
   "execution_count": 31,
   "id": "f2307eb5",
   "metadata": {},
   "outputs": [
    {
     "name": "stdout",
     "output_type": "stream",
     "text": [
      "{\"message\":\"Success.\",\"isSuccess\":true}\n"
     ]
    }
   ],
   "source": [
    "\n",
    "# delete a pixel\n",
    "delete_endpoint = f\"{pixela_endpoint}/{PIXELA_USERNAME}/graphs/learning-graph/{today_date}\"\n",
    "response = requests.delete(url=delete_endpoint, headers=HEADER)\n",
    "print(response.text)"
   ]
  },
  {
   "cell_type": "code",
   "execution_count": null,
   "id": "358dc2d0",
   "metadata": {},
   "outputs": [],
   "source": []
  }
 ],
 "metadata": {
  "kernelspec": {
   "display_name": "Python (uv-100days)",
   "language": "python",
   "name": "uv-100days"
  },
  "language_info": {
   "codemirror_mode": {
    "name": "ipython",
    "version": 3
   },
   "file_extension": ".py",
   "mimetype": "text/x-python",
   "name": "python",
   "nbconvert_exporter": "python",
   "pygments_lexer": "ipython3",
   "version": "3.12.10"
  }
 },
 "nbformat": 4,
 "nbformat_minor": 5
}
