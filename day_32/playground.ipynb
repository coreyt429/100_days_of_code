{
 "cells": [
  {
   "cell_type": "code",
   "execution_count": 1,
   "id": "e684a5b0",
   "metadata": {},
   "outputs": [],
   "source": [
    "import json\n",
    "import smtplib\n",
    "\n",
    "secrets = json.loads(open(\"secrets.json\", encoding=\"utf-8\").read())\n",
    "\n",
    "my_email = secrets[\"gmail\"][\"address\"]\n",
    "\n",
    "# with smtplib.SMTP(\n",
    "#     secrets[\"gmail\"][\"smtp_server\"], secrets[\"gmail\"][\"smtp_port\"]\n",
    "# ) as connection:\n",
    "#     connection.starttls()\n",
    "#     connection.login(user=my_email, password=secrets[\"gmail\"][\"app_password\"])\n",
    "#     connection.sendmail(\n",
    "#         from_addr=my_email,\n",
    "#         to_addrs=\"coreyt@coreyt.com\",\n",
    "#         msg=\"Subject:Hello\\n\\nThis is the body of the email.\",\n",
    "#     )\n",
    "#     connection.close()"
   ]
  },
  {
   "cell_type": "code",
   "execution_count": 2,
   "id": "11a5ec1e",
   "metadata": {},
   "outputs": [
    {
     "name": "stdout",
     "output_type": "stream",
     "text": [
      "1974-04-29 18:04:00\n"
     ]
    }
   ],
   "source": [
    "\n",
    "import datetime as dt\n",
    "\n",
    "now = dt.datetime.now()\n",
    "year = now.combine\n",
    "\n",
    "date_of_birth = dt.datetime(year=1974, month=4, day=29, hour=18, minute=4)\n",
    "\n",
    "\n",
    "print(date_of_birth)"
   ]
  },
  {
   "cell_type": "code",
   "execution_count": null,
   "id": "4cc87a25",
   "metadata": {},
   "outputs": [],
   "source": [
    "import datetime as dt\n",
    "from random import choice\n",
    "\n",
    "now = dt.datetime.now()\n",
    "# 1 User datetime module to obtain the current day of the week\n",
    "weekday = now.isoweekday()\n",
    "# 2. Open the quotes.txt file to obtain a list of quotes\n",
    "quotes = []\n",
    "with open(\"quotes.txt\", encoding=\"utf-8\") as quotes_file:\n",
    "    quotes = quotes_file.readlines()\n",
    "\n",
    "if weekday == 6:\n",
    "    # 3. Use the random module to pick a random quote from your list of quotes\n",
    "    quote = choice(quotes)\n",
    "    # 4. Send the quote to yourself using the smtplib module\n",
    "    my_email = secrets[\"gmail\"][\"address\"]\n",
    "\n",
    "    with smtplib.SMTP(\n",
    "        secrets[\"gmail\"][\"smtp_server\"], secrets[\"gmail\"][\"smtp_port\"]\n",
    "    ) as connection:\n",
    "        connection.starttls()\n",
    "        connection.login(user=my_email, password=secrets[\"gmail\"][\"app_password\"])\n",
    "        connection.sendmail(\n",
    "            from_addr=my_email,\n",
    "            to_addrs=\"coreyt@coreyt.com\",\n",
    "            msg=f\"Subject:Saturday Motivation\\n\\n{quote}\",\n",
    "        )\n",
    "\n",
    "\n",
    "\n",
    "\n"
   ]
  },
  {
   "cell_type": "code",
   "execution_count": null,
   "id": "5a9f5616",
   "metadata": {},
   "outputs": [],
   "source": []
  }
 ],
 "metadata": {
  "kernelspec": {
   "display_name": ".venv",
   "language": "python",
   "name": "python3"
  },
  "language_info": {
   "codemirror_mode": {
    "name": "ipython",
    "version": 3
   },
   "file_extension": ".py",
   "mimetype": "text/x-python",
   "name": "python",
   "nbconvert_exporter": "python",
   "pygments_lexer": "ipython3",
   "version": "3.12.10"
  }
 },
 "nbformat": 4,
 "nbformat_minor": 5
}
