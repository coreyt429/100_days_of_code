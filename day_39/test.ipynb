{
 "cells": [
  {
   "cell_type": "code",
   "execution_count": 1,
   "id": "3a3cc6bb",
   "metadata": {},
   "outputs": [],
   "source": [
    "test_dict = {'Gfg': 1, 'is': 2, 'best': 3}"
   ]
  },
  {
   "cell_type": "code",
   "execution_count": 2,
   "id": "58c684c0",
   "metadata": {},
   "outputs": [
    {
     "name": "stdout",
     "output_type": "stream",
     "text": [
      "The updated dictionary is : {'Gfg': 4, 'is': 2, 'best': 3}\n"
     ]
    }
   ],
   "source": [
    "test_dict.update({'Gfg': 4})\n",
    "print(\"The updated dictionary is : \" + str(test_dict))"
   ]
  },
  {
   "cell_type": "code",
   "execution_count": null,
   "id": "83ace2da",
   "metadata": {},
   "outputs": [],
   "source": []
  }
 ],
 "metadata": {
  "kernelspec": {
   "display_name": "Python (uv-100days)",
   "language": "python",
   "name": "uv-100days"
  },
  "language_info": {
   "codemirror_mode": {
    "name": "ipython",
    "version": 3
   },
   "file_extension": ".py",
   "mimetype": "text/x-python",
   "name": "python",
   "nbconvert_exporter": "python",
   "pygments_lexer": "ipython3",
   "version": "3.12.10"
  }
 },
 "nbformat": 4,
 "nbformat_minor": 5
}
